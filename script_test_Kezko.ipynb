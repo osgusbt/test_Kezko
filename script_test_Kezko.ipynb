{
 "cells": [
  {
   "cell_type": "markdown",
   "id": "83a1b717-5ef4-41b6-968e-e2ca364e8e78",
   "metadata": {},
   "source": [
    "Import the pandas library to save the csv's information as a dataframe"
   ]
  },
  {
   "cell_type": "code",
   "execution_count": 1,
   "id": "5bd19880-6eea-4f53-a2f2-697f3ea4c74e",
   "metadata": {},
   "outputs": [],
   "source": [
    "import pandas as pd"
   ]
  },
  {
   "cell_type": "markdown",
   "id": "40bba245-93f8-448f-a6e5-9c3d8ad8b50d",
   "metadata": {},
   "source": [
    "Read the csv file into a pandas df"
   ]
  },
  {
   "cell_type": "code",
   "execution_count": 2,
   "id": "2fc11289-3051-4edd-aa61-415289b055d3",
   "metadata": {},
   "outputs": [],
   "source": [
    "df = pd.read_csv('deliveries.csv', sep = ';')"
   ]
  },
  {
   "cell_type": "markdown",
   "id": "488835df-a7d2-4579-b197-233c23c9416f",
   "metadata": {},
   "source": [
    "Inspect the data"
   ]
  },
  {
   "cell_type": "code",
   "execution_count": 3,
   "id": "9910b9ad-e2d8-4854-8177-33b47e1aed89",
   "metadata": {},
   "outputs": [],
   "source": [
    "#df.head()"
   ]
  },
  {
   "cell_type": "markdown",
   "id": "5af96a1e-265d-4891-924e-d315812c0e05",
   "metadata": {},
   "source": [
    "Filter emails based on the failure_message column"
   ]
  },
  {
   "cell_type": "code",
   "execution_count": 4,
   "id": "662cae9a-21c9-4e23-bbfc-452d9cdfa421",
   "metadata": {},
   "outputs": [],
   "source": [
    "non_existing_emails = df[df['failure_message'].str.contains('5.1.1|does not exist', case = False, na = False)]"
   ]
  },
  {
   "cell_type": "markdown",
   "id": "4354e388-9744-4f65-aa96-f22876593167",
   "metadata": {},
   "source": [
    "Extract only the email column"
   ]
  },
  {
   "cell_type": "code",
   "execution_count": 5,
   "id": "9cd3470f-b9fa-44c3-82c1-729682cca1ca",
   "metadata": {},
   "outputs": [],
   "source": [
    "emails_to_clean = non_existing_emails[['email']]"
   ]
  },
  {
   "cell_type": "markdown",
   "id": "f9c6770f-6830-49e8-8794-8b708ec013d8",
   "metadata": {},
   "source": [
    "Save the emails in a new csv file"
   ]
  },
  {
   "cell_type": "code",
   "execution_count": 6,
   "id": "5e726206-ccb0-4f10-a617-497a9d2deca0",
   "metadata": {},
   "outputs": [],
   "source": [
    "emails_to_clean.to_csv('non_existing_emails.csv', index = False)"
   ]
  }
 ],
 "metadata": {
  "kernelspec": {
   "display_name": "Python 3 (ipykernel)",
   "language": "python",
   "name": "python3"
  },
  "language_info": {
   "codemirror_mode": {
    "name": "ipython",
    "version": 3
   },
   "file_extension": ".py",
   "mimetype": "text/x-python",
   "name": "python",
   "nbconvert_exporter": "python",
   "pygments_lexer": "ipython3",
   "version": "3.13.6"
  }
 },
 "nbformat": 4,
 "nbformat_minor": 5
}
